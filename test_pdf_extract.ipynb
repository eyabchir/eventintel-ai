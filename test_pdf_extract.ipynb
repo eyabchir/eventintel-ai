{
 "cells": [
  {
   "cell_type": "code",
   "execution_count": 3,
   "id": "bb220211-3493-4c11-b2df-044196d0e54b",
   "metadata": {},
   "outputs": [
    {
     "name": "stdout",
     "output_type": "stream",
     "text": [
      "data/web_summit_startups_2023.pdf : True\n",
      "data/vivatech_2024_factsheet.pdf : True\n",
      "data/iaa_conference_2024.pdf : True\n"
     ]
    }
   ],
   "source": [
    "import fitz\n",
    "\n",
    "def is_extractable(path):\n",
    "    with fitz.open(path) as doc:\n",
    "        for page in doc:\n",
    "            if page.get_text().strip():\n",
    "                return True\n",
    "    return False\n",
    "\n",
    "for f in [\n",
    "  \"data/web_summit_startups_2023.pdf\",\n",
    "  \"data/vivatech_2024_factsheet.pdf\",\n",
    "  \"data/iaa_conference_2024.pdf\"\n",
    "]:\n",
    "    print(f, \":\", is_extractable(f))\n"
   ]
  }
 ],
 "metadata": {
  "kernelspec": {
   "display_name": "Python (venv)",
   "language": "python",
   "name": "venv"
  },
  "language_info": {
   "codemirror_mode": {
    "name": "ipython",
    "version": 3
   },
   "file_extension": ".py",
   "mimetype": "text/x-python",
   "name": "python",
   "nbconvert_exporter": "python",
   "pygments_lexer": "ipython3",
   "version": "3.9.13"
  }
 },
 "nbformat": 4,
 "nbformat_minor": 5
}
